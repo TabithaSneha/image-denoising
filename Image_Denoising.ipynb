{
  "nbformat": 4,
  "nbformat_minor": 0,
  "metadata": {
    "colab": {
      "provenance": []
    },
    "kernelspec": {
      "name": "python3",
      "display_name": "Python 3"
    },
    "language_info": {
      "name": "python"
    },
    "accelerator": "GPU",
    "gpuClass": "standard"
  },
  "cells": [
    {
      "cell_type": "code",
      "execution_count": 69,
      "metadata": {
        "id": "HiY6A5GO_R6x"
      },
      "outputs": [],
      "source": [
        "import pandas as pd\n",
        "import numpy as np\n",
        "import torch\n",
        "import torchvision\n",
        "import torch.nn as nn\n",
        "import torch.nn.functional as Ff\n",
        "import torch.optim as optim \n",
        "import matplotlib.pyplot as plt\n",
        "from torchvision.transforms import transforms\n",
        "from torch.utils.data import DataLoader\n",
        "from torch.utils.data import Dataset"
      ]
    },
    {
      "cell_type": "code",
      "source": [
        "# Hyperparameters\n",
        "num_epochs = 250\n",
        "batch_size = 64\n",
        "learning_rate = 0.001\n",
        "\n",
        "MODEL_STORE_PATH = './model'"
      ],
      "metadata": {
        "id": "AlGtbf4AE3FM"
      },
      "execution_count": 70,
      "outputs": []
    },
    {
      "cell_type": "code",
      "source": [
        "transform = transforms.Compose(\n",
        "    [transforms.ToTensor(),\n",
        "     transforms.Resize((28, 28)),\n",
        "     transforms.Normalize((0.5, 0.5, 0.5), (0.5, 0.5, 0.5))])"
      ],
      "metadata": {
        "id": "C9zX1KEUE3Ix"
      },
      "execution_count": 71,
      "outputs": []
    },
    {
      "cell_type": "code",
      "source": [
        "train_dataset = torchvision.datasets.CIFAR10(root='./data', train=True,\n",
        "                                        download=True, transform=transform)\n",
        "train_loader = torch.utils.data.DataLoader(train_dataset, batch_size=batch_size,\n",
        "                                          shuffle=True, num_workers=2)\n",
        "\n",
        "test_dataset = torchvision.datasets.CIFAR10(root='./data', train=False,\n",
        "                                       download=True, transform=transform)\n",
        "test_loader = torch.utils.data.DataLoader(test_dataset, batch_size=batch_size,\n",
        "                                         shuffle=False, num_workers=2)\n",
        "\n",
        "classes = ('plane', 'car', 'bird', 'cat',\n",
        "           'deer', 'dog', 'frog', 'horse', 'ship', 'truck')"
      ],
      "metadata": {
        "colab": {
          "base_uri": "https://localhost:8080/"
        },
        "id": "uZDGJxqzE3Li",
        "outputId": "333166e5-ea0f-4528-97ea-a7806fc9bc7a"
      },
      "execution_count": 72,
      "outputs": [
        {
          "output_type": "stream",
          "name": "stdout",
          "text": [
            "Files already downloaded and verified\n",
            "Files already downloaded and verified\n"
          ]
        }
      ]
    },
    {
      "cell_type": "code",
      "source": [
        "# Helper function to un-normalize and display an image\n",
        "def imshow(img):\n",
        "    \n",
        "    plt.imshow(np.transpose(img, (1, 2, 0)))  # convert from Tensor image\n"
      ],
      "metadata": {
        "id": "s3aieIlPE-vK"
      },
      "execution_count": 73,
      "outputs": []
    },
    {
      "cell_type": "code",
      "source": [
        "# Obtain one batch of training images\n",
        "dataiter = iter(train_loader)\n",
        "images, labels = next(dataiter)\n",
        "\n",
        "noise_factor = 0.1\n",
        "noisy_imgs = images + noise_factor * torch.randn(*images.shape)\n",
        "noisy_imgs = np.clip(noisy_imgs, 0., 1.)\n",
        "images = images.numpy() \n",
        "noisy_imgs=noisy_imgs.numpy()\n",
        "def displayImages(orig, noise, num=10):\n",
        "    import matplotlib.pyplot as plt\n",
        "    n = num\n",
        "    plt.figure(figsize=(20, 4))\n",
        "\n",
        "    for i in range(n):\n",
        "        # Display original images\n",
        "        ax = plt.subplot(2, n, i+1)\n",
        "        imshow(orig[i])\n",
        "        ax.get_xaxis().set_visible(False)\n",
        "        ax.get_yaxis().set_visible(False)\n",
        "        \n",
        "        # Display noisy images\n",
        "        ax = plt.subplot(2, n, i +1 + n)\n",
        "        imshow(noise[i])\n",
        "        ax.get_xaxis().set_visible(False)\n",
        "        ax.get_yaxis().set_visible(False)\n",
        "\n",
        "    plt.figtext(0.5,0.95, \"Original Images\", ha=\"center\", va=\"top\", fontsize=14, color=\"b\")\n",
        "    plt.figtext(0.5,0.5, \"Noisy Images\", ha=\"center\", va=\"top\", fontsize=14, color=\"b\")\n",
        "    plt.subplots_adjust(hspace = 0.3 )\n",
        "        \n",
        "    plt.show()\n"
      ],
      "metadata": {
        "id": "b-07fhFBE-xd"
      },
      "execution_count": 74,
      "outputs": []
    },
    {
      "cell_type": "code",
      "source": [
        "displayImages(images,noisy_imgs)"
      ],
      "metadata": {
        "colab": {
          "base_uri": "https://localhost:8080/",
          "height": 446
        },
        "id": "7Og2nxYEE-0s",
        "outputId": "2e5c267a-55f5-4e7c-dc20-a5202c61d16d"
      },
      "execution_count": 75,
      "outputs": [
        {
          "output_type": "stream",
          "name": "stderr",
          "text": [
            "WARNING:matplotlib.image:Clipping input data to the valid range for imshow with RGB data ([0..1] for floats or [0..255] for integers).\n",
            "WARNING:matplotlib.image:Clipping input data to the valid range for imshow with RGB data ([0..1] for floats or [0..255] for integers).\n",
            "WARNING:matplotlib.image:Clipping input data to the valid range for imshow with RGB data ([0..1] for floats or [0..255] for integers).\n",
            "WARNING:matplotlib.image:Clipping input data to the valid range for imshow with RGB data ([0..1] for floats or [0..255] for integers).\n",
            "WARNING:matplotlib.image:Clipping input data to the valid range for imshow with RGB data ([0..1] for floats or [0..255] for integers).\n",
            "WARNING:matplotlib.image:Clipping input data to the valid range for imshow with RGB data ([0..1] for floats or [0..255] for integers).\n",
            "WARNING:matplotlib.image:Clipping input data to the valid range for imshow with RGB data ([0..1] for floats or [0..255] for integers).\n",
            "WARNING:matplotlib.image:Clipping input data to the valid range for imshow with RGB data ([0..1] for floats or [0..255] for integers).\n",
            "WARNING:matplotlib.image:Clipping input data to the valid range for imshow with RGB data ([0..1] for floats or [0..255] for integers).\n",
            "WARNING:matplotlib.image:Clipping input data to the valid range for imshow with RGB data ([0..1] for floats or [0..255] for integers).\n"
          ]
        },
        {
          "output_type": "display_data",
          "data": {
            "text/plain": [
              "<Figure size 1440x288 with 20 Axes>"
            ],
            "image/png": "[encoded data removed]"
          },
          "metadata": {
            "needs_background": "light"
          }
        }
      ]
    },
    {
      "cell_type": "code",
      "source": [
        "# For finding output dimensions from Convolution and Transposed Convolutions\n",
        "\n",
        "# Output dimensions from Convolution\n",
        "def in_dim(inp, F, P, S):\n",
        "    out = int((inp - F + 2*P)/S + 1)\n",
        "    return out\n",
        "\n",
        "#Output dimension from Transposed convolution\n",
        "def out_dim(inp, F, P, S, out_pad):\n",
        "    out = (inp - 1)*S + F - 2*P + out_pad\n",
        "    return out"
      ],
      "metadata": {
        "id": "j5KoHByGE-52"
      },
      "execution_count": 76,
      "outputs": []
    },
    {
      "cell_type": "code",
      "execution_count": 77,
      "metadata": {
        "id": "ou7SaQQ4Q4Hr"
      },
      "outputs": [],
      "source": [
        "class Encoder(nn.Module):\n",
        "    \n",
        "    def __init__(self):\n",
        "        super().__init__()\n",
        "        \n",
        "        # Convolutional layers\n",
        "        self.encoder_cnn = nn.Sequential(\n",
        "            nn.Conv2d(3, 16, 5, stride=1, padding=2), #28 -> 28\n",
        "            nn.BatchNorm2d(16),\n",
        "            nn.ReLU(True),\n",
        "            nn.Conv2d(16, 32, 5, stride=2, padding=2), #28 -> 14\n",
        "            nn.BatchNorm2d(32),\n",
        "            nn.ReLU(True),\n",
        "            nn.Conv2d(32, 64, 5, stride=1, padding=2), #14 -> 14\n",
        "            nn.BatchNorm2d(64),\n",
        "            nn.ReLU(True),\n",
        "            nn.Conv2d(64, 128, 5, stride=1, padding=0), #7 -> 7\n",
        "            nn.BatchNorm2d(128),\n",
        "            nn.ReLU(True)\n",
        "        )\n",
        "        \n",
        "    def forward(self, x):\n",
        "        x = self.encoder_cnn(x)\n",
        "        return x\n",
        "\n",
        "class Decoder(nn.Module):\n",
        "    \n",
        "    def __init__(self):\n",
        "        super().__init__()\n",
        "\n",
        "        # Deconvolutional layers\n",
        "        self.decoder_conv = nn.Sequential(\n",
        "            nn.ConvTranspose2d(128, 64, 5, stride=1, padding = 0), #7 -> 14\n",
        "            nn.BatchNorm2d(64),\n",
        "            nn.ReLU(True),\n",
        "            nn.ConvTranspose2d(64, 32, 5, stride=1, padding = 2), #14 -> 14\n",
        "            nn.BatchNorm2d(32),\n",
        "            nn.ReLU(True),\n",
        "            nn.ConvTranspose2d(32, 16, 5, stride=2, padding = 2, output_padding=1), #14 -> 28\n",
        "            nn.BatchNorm2d(16),\n",
        "            nn.ReLU(True),\n",
        "            nn.ConvTranspose2d(16, 3, 5, stride=1, padding = 2), #28 -> 28\n",
        "            nn.BatchNorm2d(3),\n",
        "        )\n",
        "        \n",
        "    def forward(self, x):\n",
        "        x = self.decoder_conv(x)\n",
        "        x = torch.sigmoid(x)\n",
        "        return x"
      ]
    },
    {
      "cell_type": "code",
      "source": [
        "# Emptying CUDA Cache\n",
        "torch.cuda.empty_cache()\n",
        "\n",
        "# Check if the GPU is available\n",
        "device = torch.device(\"cuda\") if torch.cuda.is_available() else torch.device(\"cpu\")\n",
        "print(f'Selected device: {device}')"
      ],
      "metadata": {
        "colab": {
          "base_uri": "https://localhost:8080/"
        },
        "id": "HbxaS3sBE3Nb",
        "outputId": "8b2bd621-9929-4bf3-f600-7627f0d58941"
      },
      "execution_count": 78,
      "outputs": [
        {
          "output_type": "stream",
          "name": "stdout",
          "text": [
            "Selected device: cuda\n"
          ]
        }
      ]
    },
    {
      "cell_type": "code",
      "source": [
        "# Define the loss function\n",
        "loss_fn = torch.nn.MSELoss()\n",
        "\n",
        "# Set the random seed for reproducible results\n",
        "torch.manual_seed(0)\n",
        "\n",
        "encoder = Encoder()\n",
        "decoder = Decoder()\n",
        "parameters = [\n",
        "    {'params': encoder.parameters()},\n",
        "    {'params': decoder.parameters()}\n",
        "]\n",
        "\n",
        "# Move both the encoder and the decoder to the selected device\n",
        "encoder.to(device)\n",
        "decoder.to(device)\n",
        "\n",
        "# Initializing the optimizer\n",
        "optim = torch.optim.Adam(parameters, lr=learning_rate, weight_decay=1e-05)"
      ],
      "metadata": {
        "id": "RHdBbzvyF_5U"
      },
      "execution_count": 79,
      "outputs": []
    },
    {
      "cell_type": "code",
      "source": [
        "# Getting the layers as a list\n",
        "encoder_children =  list(encoder.children())\n",
        "decoder_children = list(decoder.children())"
      ],
      "metadata": {
        "id": "wtrOHzDSF_60"
      },
      "execution_count": 80,
      "outputs": []
    },
    {
      "cell_type": "code",
      "source": [
        "encoder_children"
      ],
      "metadata": {
        "colab": {
          "base_uri": "https://localhost:8080/"
        },
        "id": "e1B6FlHPF_8-",
        "outputId": "421ce756-f47d-484a-eb48-815b6161eefc"
      },
      "execution_count": 81,
      "outputs": [
        {
          "output_type": "execute_result",
          "data": {
            "text/plain": [
              "[Sequential(\n",
              "   (0): Conv2d(3, 16, kernel_size=(5, 5), stride=(1, 1), padding=(2, 2))\n",
              "   (1): BatchNorm2d(16, eps=1e-05, momentum=0.1, affine=True, track_running_stats=True)\n",
              "   (2): ReLU(inplace=True)\n",
              "   (3): Conv2d(16, 32, kernel_size=(5, 5), stride=(2, 2), padding=(2, 2))\n",
              "   (4): BatchNorm2d(32, eps=1e-05, momentum=0.1, affine=True, track_running_stats=True)\n",
              "   (5): ReLU(inplace=True)\n",
              "   (6): Conv2d(32, 64, kernel_size=(5, 5), stride=(1, 1), padding=(2, 2))\n",
              "   (7): BatchNorm2d(64, eps=1e-05, momentum=0.1, affine=True, track_running_stats=True)\n",
              "   (8): ReLU(inplace=True)\n",
              "   (9): Conv2d(64, 128, kernel_size=(5, 5), stride=(1, 1))\n",
              "   (10): BatchNorm2d(128, eps=1e-05, momentum=0.1, affine=True, track_running_stats=True)\n",
              "   (11): ReLU(inplace=True)\n",
              " )]"
            ]
          },
          "metadata": {},
          "execution_count": 81
        }
      ]
    },
    {
      "cell_type": "code",
      "source": [
        "decoder_children"
      ],
      "metadata": {
        "colab": {
          "base_uri": "https://localhost:8080/"
        },
        "id": "LNSb9Gq8F__2",
        "outputId": "a933002b-8088-4efe-f166-b1aee54fca25"
      },
      "execution_count": 82,
      "outputs": [
        {
          "output_type": "execute_result",
          "data": {
            "text/plain": [
              "[Sequential(\n",
              "   (0): ConvTranspose2d(128, 64, kernel_size=(5, 5), stride=(1, 1))\n",
              "   (1): BatchNorm2d(64, eps=1e-05, momentum=0.1, affine=True, track_running_stats=True)\n",
              "   (2): ReLU(inplace=True)\n",
              "   (3): ConvTranspose2d(64, 32, kernel_size=(5, 5), stride=(1, 1), padding=(2, 2))\n",
              "   (4): BatchNorm2d(32, eps=1e-05, momentum=0.1, affine=True, track_running_stats=True)\n",
              "   (5): ReLU(inplace=True)\n",
              "   (6): ConvTranspose2d(32, 16, kernel_size=(5, 5), stride=(2, 2), padding=(2, 2), output_padding=(1, 1))\n",
              "   (7): BatchNorm2d(16, eps=1e-05, momentum=0.1, affine=True, track_running_stats=True)\n",
              "   (8): ReLU(inplace=True)\n",
              "   (9): ConvTranspose2d(16, 3, kernel_size=(5, 5), stride=(1, 1), padding=(2, 2))\n",
              "   (10): BatchNorm2d(3, eps=1e-05, momentum=0.1, affine=True, track_running_stats=True)\n",
              " )]"
            ]
          },
          "metadata": {},
          "execution_count": 82
        }
      ]
    },
    {
      "cell_type": "code",
      "source": [
        "# Noise addition function\n",
        "def add_noise(inputs,noise_factor=0.1):\n",
        "     noisy = inputs+torch.randn_like(inputs) * noise_factor\n",
        "     noisy = torch.clip(noisy,0.,1.)\n",
        "     return noisy"
      ],
      "metadata": {
        "id": "BIFHjrR5GADM"
      },
      "execution_count": 83,
      "outputs": []
    },
    {
      "cell_type": "code",
      "source": [
        "from random import randint\n",
        "idx = randint(1, batch_size)"
      ],
      "metadata": {
        "id": "9gaA-F6pI49P"
      },
      "execution_count": 84,
      "outputs": []
    },
    {
      "cell_type": "code",
      "source": [
        "def image_score(reconstructed, input):\n",
        "\n",
        "    reconstructed = reconstructed.detach().cpu()\n",
        "    input = input.detach().cpu()\n",
        "\n",
        "    PWD = nn.PairwiseDistance(p=2, eps = 1e-6)\n",
        "    score = torch.mean(PWD(reconstructed, input))\n",
        "\n",
        "    return score"
      ],
      "metadata": {
        "id": "lSy68Up4GAGu"
      },
      "execution_count": 85,
      "outputs": []
    },
    {
      "cell_type": "code",
      "source": [
        "### Training function\n",
        "def train_epoch_den(encoder, decoder, device, dataloader, loss_fn, optimizer,noise_factor):\n",
        "    # Set train mode for both the encoder and the decoder\n",
        "    encoder.train()\n",
        "    decoder.train()\n",
        "    train_loss = []\n",
        "    # Iterate the dataloader (we do not need the label values, this is unsupervised learning)\n",
        "    for i, (image_batch, _) in enumerate(dataloader): # with \"_\" we just ignore the labels (the second element of the dataloader tuple)\n",
        "        # Move tensor to the proper device\n",
        "        image_batch = image_batch.to(device)\n",
        "        image_noisy = add_noise(image_batch,noise_factor)\n",
        "        image_noisy = image_noisy.to(device)    \n",
        "        # Encode data\n",
        "        encoded_data = encoder(image_noisy)\n",
        "        # Decode data\n",
        "        decoded_data = decoder(encoded_data)\n",
        "        # Evaluate loss\n",
        "        loss = loss_fn(decoded_data, image_batch)\n",
        "        # Backward pass\n",
        "        optimizer.zero_grad()\n",
        "        loss.backward()\n",
        "        optimizer.step()\n",
        "        # Print batch loss\n",
        "        if i%100 == 0:\n",
        "            print('\\t Step [{}/{}] Train loss : {:.4f}'. format(i+1, len(dataloader),loss.data))\n",
        "            train_loss.append(loss.detach().cpu().numpy())\n",
        "\n",
        "    cosine_train = image_score(decoded_data[0], image_batch[0])\n",
        "\n",
        "    return np.mean(train_loss), cosine_train"
      ],
      "metadata": {
        "id": "Gew2GFCbE3Rd"
      },
      "execution_count": 86,
      "outputs": []
    },
    {
      "cell_type": "code",
      "source": [
        "### Testing function\n",
        "def test_epoch_den(encoder, decoder, device, dataloader, loss_fn,noise_factor):\n",
        "    # Set evaluation mode for encoder and decoder\n",
        "    encoder.eval()\n",
        "    decoder.eval()\n",
        "    with torch.no_grad(): # No need to track the gradients\n",
        "        # Define the lists to store the outputs for each batch\n",
        "        conc_out = []\n",
        "        conc_label = []\n",
        "        for image_batch, _ in dataloader:\n",
        "            # Move tensor to the proper device\n",
        "            image_noisy = add_noise(image_batch,noise_factor)\n",
        "            image_noisy = image_noisy.to(device)\n",
        "            # Encode data\n",
        "            encoded_data = encoder(image_noisy)\n",
        "            # Decode data\n",
        "            decoded_data = decoder(encoded_data)\n",
        "            # Append the network output and the original signal to the lists\n",
        "            conc_out.append(decoded_data.cpu())\n",
        "            conc_label.append(image_batch.cpu())\n",
        "        # Create a single tensor with all the values in the lists\n",
        "        conc_out = torch.cat(conc_out)\n",
        "        conc_label = torch.cat(conc_label) \n",
        "        # Evaluate global loss\n",
        "        cosine_val = image_score(decoded_data, image_batch)\n",
        "    return cosine_val"
      ],
      "metadata": {
        "id": "LbU4NQ6yHQxs"
      },
      "execution_count": 87,
      "outputs": []
    },
    {
      "cell_type": "code",
      "source": [
        "def plot_ae_outputs_den(encoder,decoder,noise_factor):\n",
        "  \n",
        "    plt.figure(figsize=(15, 20))  \n",
        "\n",
        "    ax = plt.subplot(5,1,1)\n",
        "    idx = randint(0, len(test_dataset))\n",
        "    image = test_dataset[idx][0].unsqueeze(0)\n",
        "    image_noisy = add_noise(image, noise_factor)     \n",
        "    image_noisy = image_noisy.to(device)\n",
        "\n",
        "    encoder.eval()\n",
        "    decoder.eval()\n",
        "\n",
        "    with torch.no_grad():\n",
        "        reconstructed_image = decoder(encoder(image_noisy))\n",
        "\n",
        "    image = np.reshape(image.cpu().squeeze().numpy(), (3,28,28))\n",
        "    imshow(image)\n",
        "    ax.get_xaxis().set_visible(False)\n",
        "    ax.get_yaxis().set_visible(False)  \n",
        "    ax.set_title('Original Image')\n",
        "\n",
        "    ax = plt.subplot(5, 1, 2)\n",
        "    image_noisy = np.reshape(image_noisy.cpu().squeeze().numpy(), (3,28,28))\n",
        "    imshow(image_noisy)\n",
        "    ax.get_xaxis().set_visible(False)\n",
        "    ax.get_yaxis().set_visible(False)  \n",
        "    ax.set_title('Noisy Image')\n",
        "\n",
        "    ax = plt.subplot(5, 1, 3)\n",
        "    reconstructed_image = np.reshape(reconstructed_image.cpu().squeeze().numpy(), (3,28,28)) \n",
        "    imshow(reconstructed_image)\n",
        "    ax.get_xaxis().set_visible(False)\n",
        "    ax.get_yaxis().set_visible(False)  \n",
        "    ax.set_title('Reconstructed Image')\n",
        "    plt.subplots_adjust(left=0.1,\n",
        "                    bottom=0.1, \n",
        "                    right=0.7, \n",
        "                    top=0.9, \n",
        "                    wspace=0.3, \n",
        "                    hspace=0.3)     \n",
        "    plt.show()   "
      ],
      "metadata": {
        "id": "ThdOQDkyHQ2Q"
      },
      "execution_count": 88,
      "outputs": []
    },
    {
      "cell_type": "code",
      "source": [
        "### Training cycle\n",
        "noise_factor = 0.1\n",
        "history_da={'train_loss':[],'val_loss':[]}\n",
        "\n",
        "for epoch in range(num_epochs):\n",
        "    print('EPOCH %d/%d' % (epoch + 1, num_epochs))\n",
        "    ### Training (use the training function)\n",
        "    train_loss, score_train=train_epoch_den(\n",
        "        encoder=encoder, \n",
        "        decoder=decoder, \n",
        "        device=device, \n",
        "        dataloader=train_loader, \n",
        "        loss_fn=loss_fn,\n",
        "        optimizer=optim,\n",
        "        noise_factor=noise_factor)\n",
        "\n",
        "    ### Validation  (use the testing function)\n",
        "    score_val = test_epoch_den(\n",
        "        encoder=encoder, \n",
        "        decoder=decoder, \n",
        "        device=device, \n",
        "        dataloader=test_loader, \n",
        "        loss_fn=loss_fn,\n",
        "        noise_factor=noise_factor)\n",
        "    \n",
        "    # Print Validation loss\n",
        "    history_da['train_loss'].append(train_loss)\n",
        "    print('\\n EPOCH {}/{} \\t train loss {:.3f}'.format(epoch + 1, num_epochs,train_loss))\n",
        "    print('\\nTraining Score = {} \\t Validation Score = {}\\n'.format(score_train, score_val))\n",
        "    plot_ae_outputs_den(encoder,decoder,noise_factor=noise_factor)"
      ],
      "metadata": {
        "id": "InxGbEzJHQ4l"
      },
      "execution_count": null,
      "outputs": []
    },
    {
      "cell_type": "code",
      "source": [
        "# Plotting Loss Curves\n",
        "\n",
        "plt.plot(history_da['train_loss'], color = 'r', label = 'Train')\n",
        "plt.xlabel(\"Epochs\")\n",
        "plt.ylabel(\"Cost\")\n",
        "plt.title(\"Loss Curves\")\n",
        "plt.legend()\n",
        "plt.show()"
      ],
      "metadata": {
        "colab": {
          "base_uri": "https://localhost:8080/",
          "height": 295
        },
        "id": "HWQJ2Rp8HQ8H",
        "outputId": "d87c2247-7171-46dd-c52e-32971a7f140c"
      },
      "execution_count": 90,
      "outputs": [
        {
          "output_type": "display_data",
          "data": {
            "text/plain": [
              "<Figure size 432x288 with 1 Axes>"
            ],
            "image/png": "[encoded data removed]"
          },
          "metadata": {
            "needs_background": "light"
          }
        }
      ]
    },
    {
      "cell_type": "code",
      "source": [
        "# Saving the model\n",
        "torch.save(encoder, MODEL_STORE_PATH)\n",
        "torch.save(decoder, MODEL_STORE_PATH)"
      ],
      "metadata": {
        "id": "YvpgbpuyHQ-u"
      },
      "execution_count": 91,
      "outputs": []
    },
    {
      "cell_type": "code",
      "source": [
        "# Loading the model\n",
        "encoder = torch.load(MODEL_STORE_PATH)\n",
        "decoder = torch.load(MODEL_STORE_PATH)\n",
        "encoder.eval()\n",
        "decoder.eval()"
      ],
      "metadata": {
        "id": "2GABlPOQHRB-"
      },
      "execution_count": null,
      "outputs": []
    }
  ]
}